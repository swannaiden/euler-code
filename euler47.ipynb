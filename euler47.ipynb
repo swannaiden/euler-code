{
  "nbformat": 4,
  "nbformat_minor": 0,
  "metadata": {
    "colab": {
      "name": "euler47.ipynb",
      "provenance": [],
      "collapsed_sections": [],
      "authorship_tag": "ABX9TyMsOS2385rNmU7f9oz/9WNF"
    },
    "kernelspec": {
      "name": "python3",
      "display_name": "Python 3"
    },
    "language_info": {
      "name": "python"
    }
  },
  "cells": [
    {
      "cell_type": "code",
      "execution_count": null,
      "metadata": {
        "id": "RUcE5gFJoLa7"
      },
      "outputs": [],
      "source": [
        "# generate list of primes\n",
        "import math\n",
        "\n",
        "def isPrime(num):\n",
        "  for i in range(2, round(math.pow(num, .5))+1):\n",
        "    if(num%i == 0):\n",
        "      return False\n",
        "  return True\n",
        "\n",
        "\n",
        "primes = []\n",
        "primes.append(2)\n",
        "for i in range(3,1000):\n",
        "  if(isPrime(i)):\n",
        "    primes.append(i)\n",
        "\n",
        "\n",
        "print(primes)"
      ]
    },
    {
      "cell_type": "code",
      "source": [
        "# now find prime factors\n",
        "\n",
        "def getFactors(num):\n",
        "  factors = []\n",
        "  index = 0\n",
        "  maxFact = 900\n",
        "  while(num not in primes):\n",
        "    if(num%primes[index]==0):\n",
        "      factors.append(primes[index])\n",
        "      num = num / primes[index]\n",
        "      index = index -1\n",
        "    index = index + 1\n",
        "    if(primes[index]> maxFact):\n",
        "      return [0]\n",
        "  factors.append(int(num))\n",
        "  return factors\n",
        "\n",
        "def getUnqiue(nums):\n",
        "  unique = []\n",
        "  for num in nums:\n",
        "    if(num not in unique):\n",
        "      unique.append(num)\n",
        "  return unique\n",
        "\n",
        "consec = [0,0,0,0]\n",
        "count = 0\n",
        "for i in range(0,1000000):\n",
        "  if(isPrime(i)):\n",
        "    continue\n",
        "  if(len(getUnqiue(getFactors(i))) == 4):\n",
        "    if(count == 0):\n",
        "      consec[count] = i\n",
        "      count = count+1\n",
        "    elif(consec[count-1]+1 == i):\n",
        "      consec[count] = i\n",
        "      count = count+1\n",
        "    else:\n",
        "      count = 0\n",
        "\n",
        "    if(count == 4):\n",
        "      break\n",
        "\n",
        "print(consec)"
      ],
      "metadata": {
        "colab": {
          "base_uri": "https://localhost:8080/"
        },
        "id": "Kpv08dW7pP8U",
        "outputId": "88171bd8-bfdd-45cf-cc5e-513f6baa1be4"
      },
      "execution_count": null,
      "outputs": [
        {
          "output_type": "stream",
          "name": "stdout",
          "text": [
            "[134043, 134044, 134045, 134046]\n"
          ]
        }
      ]
    }
  ]
}